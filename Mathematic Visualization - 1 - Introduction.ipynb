{
 "cells": [
  {
   "cell_type": "markdown",
   "metadata": {},
   "source": [
    "# Table of contents\n",
    "1. [Introduction to Mathematical Visualization](#introduction_general)\n",
    "    1. [General Introduction](#sub_introduction_general)\n",
    "    2. [Python Visualization Landscape](#python_viz_landscape)\n",
    "2. [Introduction to HoloViews](#introduction_holo)\n",
    "3. [Algorithm Visualization](#algo_viz)\n",
    "4. [Matrix Visualization](#matrix_viz)\n",
    "5. [Styling Plots](#styling_vix)"
   ]
  },
  {
   "cell_type": "markdown",
   "metadata": {},
   "source": [
    "# 1. Introduction to Mathematic Visualization <a name=\"introduction_general\"></a>\n",
    "  ##    1.A. General Introduction <a name='sub_introduction_general')></a>\n",
    "\n",
    "why visualize?\n",
    "- advantages:\n",
    "    - mathematic visualization to significantly help understand\n",
    "    - reading experience more enjoyable \n",
    "    - increase curiosity and spark creativity \n",
    "    - descrease complexity \n",
    "    - increase intuition \n",
    "    - change of perspective\n",
    "    \n",
    "    c.f. popularity of the YouTube channel 3Blue1Brown, e.g.:\n",
    "    [![Pythagoras](http://i3.ytimg.com/vi/QJYmyhnaaek/hqdefault.jpg)](https://youtu.be/QJYmyhnaaek?t=1m22s \"3Blue1Brown Pythagoras\")\n",
    "    \n",
    "    or the marvellous 'machine learning refined' online book (currently being completed)\n",
    "    https://jermwatt.github.io/mlrefined/index.html\n",
    "    \n",
    "    \n",
    "- disadvantages: \n",
    "    - eventually oversimplify \n",
    "    - difficult to remove an image from ones head\n",
    "- good looking visualization difficult but made easier with computers (ironically, drawing by hand is in some instances still the easiest way to go, though doesn't look very profesionnal)\n",
    "- different kinds of visualizations\n",
    "- some data visualizations only now possible thanks to computers\n",
    "- we will focus on example from an introductuary lecture to numerics\n",
    "- show Pythogroas proof\n"
   ]
  },
  {
   "cell_type": "markdown",
   "metadata": {
    "collapsed": true
   },
   "source": [
    "##    1.B. Python Visualization Landscape <a name='python_viz_landscape')></a>\n",
    "\n",
    "- This is how the current landscape looks like\n",
    "\n",
    "\n",
    "<img src=\"images/python_visualization_landscape.jpeg\" alt=\"Python Visualization Landscape\" width=\"650px\"/>\n",
    "\n",
    " (see also the corresponding presentation https://www.youtube.com/watch?v=TPl9bMg8j8U )\n",
    "\n",
    "- Brief discussion on about the others?\n",
    "- We will concentrate on HoloViews + Bokeh\n",
    "- see the examples on their respective websites:\n",
    "    - https://bokeh.pydata.org/en/latest/docs/gallery.html\n",
    "    - http://holoviews.org/gallery/index.html\n",
    "    - http://holoviews.org/reference/index.html\n",
    "\n"
   ]
  },
  {
   "cell_type": "markdown",
   "metadata": {},
   "source": [
    "# 2. Introduction to HoloViews <a name=\"introduction_holo\"></a>\n",
    "\n",
    "- make a mini version of the lecture version \"22_holoviews\"\n"
   ]
  },
  {
   "cell_type": "markdown",
   "metadata": {},
   "source": [
    "# 3. Algorithm Visualization\n",
    "\n",
    "- Newton Algorithm\n",
    "    - slowly building up with derivatives shown before?\n",
    "- Least Square Method\n",
    "- Banach Fix point\n",
    "- differential equation\n",
    "- integral approximation\n"
   ]
  },
  {
   "cell_type": "markdown",
   "metadata": {},
   "source": [
    "# 4. Matrix Visualization\n",
    "\n",
    "- Basic Matrix visualization\n",
    "- Gauss Algo for solving linear equations on gauss simulated matrix\n",
    "- spicy matrices (with distance matrices?)"
   ]
  },
  {
   "cell_type": "markdown",
   "metadata": {},
   "source": [
    "# 5. Styling Plots\n",
    "\n",
    "- how to tweak the most important details of a figure? (Unfortunately something that takes far longer that creating the figure... I would find some examples very helpful, but that could make this introduction very long very fast?)\n",
    "- e.g. reshow the Pythagoras example with more details? Incrementally increase complexity"
   ]
  },
  {
   "cell_type": "code",
   "execution_count": null,
   "metadata": {
    "collapsed": true
   },
   "outputs": [],
   "source": []
  }
 ],
 "metadata": {
  "kernelspec": {
   "display_name": "Python 3",
   "language": "python",
   "name": "python3"
  },
  "language_info": {
   "codemirror_mode": {
    "name": "ipython",
    "version": 3
   },
   "file_extension": ".py",
   "mimetype": "text/x-python",
   "name": "python",
   "nbconvert_exporter": "python",
   "pygments_lexer": "ipython3",
   "version": "3.6.5"
  }
 },
 "nbformat": 4,
 "nbformat_minor": 2
}
