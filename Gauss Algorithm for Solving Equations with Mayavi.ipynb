{
 "cells": [
  {
   "cell_type": "code",
   "execution_count": 1,
   "metadata": {
    "collapsed": true
   },
   "outputs": [],
   "source": [
    "import numpy as np\n",
    "\n",
    "A = np.array([[3/2, 4, -2],[2,-2,-9/2],[1,-3,1]])\n",
    "y = np.array([1,-0.5,2])"
   ]
  },
  {
   "cell_type": "code",
   "execution_count": 2,
   "metadata": {},
   "outputs": [
    {
     "name": "stdout",
     "output_type": "stream",
     "text": [
      "[[ 1.5  4.  -2. ]\n",
      " [ 2.  -2.  -4.5]\n",
      " [ 1.  -3.   1. ]]\n"
     ]
    }
   ],
   "source": [
    "print(A)"
   ]
  },
  {
   "cell_type": "code",
   "execution_count": 3,
   "metadata": {},
   "outputs": [
    {
     "name": "stdout",
     "output_type": "stream",
     "text": [
      "[ 1.46666667  0.06666667  0.73333333]\n"
     ]
    }
   ],
   "source": [
    "solution = np.linalg.solve(A, y)\n",
    "print(solution)"
   ]
  },
  {
   "cell_type": "code",
   "execution_count": 2,
   "metadata": {
    "scrolled": true
   },
   "outputs": [],
   "source": [
    "# example that sometimes works, sometimes not (?)\n",
    "from mayavi import mlab\n",
    "\n",
    "# mlab.init_notebook()\n",
    "#mlab.init_notebook('x3d',500,500)\n",
    "\n",
    "#mlab.figure()\n",
    "#s = mlab.test_plot3d()\n",
    "#s"
   ]
  },
  {
   "cell_type": "code",
   "execution_count": 3,
   "metadata": {},
   "outputs": [],
   "source": [
    "%gui qt\n",
    "import numpy\n",
    "from mayavi.mlab import *\n",
    "\n",
    "#mlab.init_notebook('x3d',500,500)\n",
    "mlab.figure()\n",
    "s = numpy.abs(numpy.random.random((3, 3)))\n",
    "barchart(s)\n",
    "mlab.show()"
   ]
  },
  {
   "cell_type": "code",
   "execution_count": 7,
   "metadata": {},
   "outputs": [],
   "source": [
    "#%gui qt\n",
    "\n",
    "import numpy\n",
    "from mayavi import mlab\n",
    "\n",
    "\n",
    "#mlab.init_notebook('x3d',500,500)\n",
    "mlab.figure()\n",
    "\n",
    "def lorenz(x, y, z, s=10., r=28., b=8. / 3.):\n",
    "    \"\"\"The Lorenz system.\"\"\"\n",
    "    u = s * (y - x)\n",
    "    v = r * x - y - x * z\n",
    "    w = x * y - b * z\n",
    "    return u, v, w\n",
    "\n",
    "# Sample the space in an interesting region.\n",
    "x, y, z = numpy.mgrid[-50:50:100j, -50:50:100j, -10:60:70j]\n",
    "u, v, w = lorenz(x, y, z)\n",
    "fig = mlab.figure(size=(400, 300), bgcolor=(0, 0, 0))\n",
    "\n",
    "# Plot the flow of trajectories with suitable parameters.\n",
    "f = mlab.flow(x, y, z, u, v, w, line_width=3, colormap='Paired')\n",
    "f.module_manager.scalar_lut_manager.reverse_lut = True\n",
    "f.stream_tracer.integration_direction = 'both'\n",
    "f.stream_tracer.maximum_propagation = 200\n",
    "# Uncomment the following line if you want to hide the seed:\n",
    "#f.seed.widget.enabled = False\n",
    "\n",
    "# Extract the z-velocity from the vectors and plot the 0 level set\n",
    "# hence producing the z-nullcline.\n",
    "src = f.mlab_source.m_data\n",
    "e = mlab.pipeline.extract_vector_components(src)\n",
    "e.component = 'z-component'\n",
    "zc = mlab.pipeline.iso_surface(e, opacity=0.5, contours=[0, ],\n",
    "            color=(0.6, 1, 0.2))\n",
    "# When using transparency, hiding 'backface' triangles often gives better\n",
    "# results\n",
    "zc.actor.property.backface_culling = True\n",
    "\n",
    "# A nice view of the plot.\n",
    "mlab.view(140, 120, 113, [0.65, 1.5, 27])\n",
    "mlab.show()"
   ]
  },
  {
   "cell_type": "code",
   "execution_count": 4,
   "metadata": {},
   "outputs": [],
   "source": [
    "# initializaiton\n",
    "# step 0 in the Gauss algorithm\n",
    "\n",
    "import numpy as np\n",
    "from mayavi import mlab\n",
    "#mlab.init_notebook()\n",
    "mlab.figure()\n",
    "\n",
    "x, y, z = np.ogrid[-10:10:100j, -10:10:100j, -10:10:100j]\n",
    "F1 = 1.5*x +4*y -2*z -1\n",
    "F2 = 2*x - 2*y -4.5*z + 0.5\n",
    "F3 = 1*x - 3*y +1*z -2\n",
    "\n",
    "mlab.contour3d(F1, contours = [5], color = (1,1,1))\n",
    "mlab.contour3d(F2, contours = [0],color = (1,0,0))\n",
    "mlab.contour3d(F3, contours = [3],color = (0,0,1))\n",
    "mlab.show()"
   ]
  },
  {
   "cell_type": "code",
   "execution_count": 5,
   "metadata": {
    "collapsed": true
   },
   "outputs": [],
   "source": [
    "# step 1 in the Gauss algorithm\n",
    "\n",
    "import numpy as np\n",
    "from mayavi import mlab\n",
    "\n",
    "mlab.figure()\n",
    "\n",
    "x, y, z = np.ogrid[-10:10:100j, -10:10:100j, -10:10:100j]\n",
    "F1 = 1.5*x +4*y -2*z -1\n",
    "F2 = 0*x -22/3*y -11/6*z + 11/6\n",
    "F3 = 0*x -17/3*y + 7/3*z - 4/3\n",
    "\n",
    "mlab.contour3d(F1, contours = [5], color = (1,1,1))\n",
    "mlab.contour3d(F2, contours = [0],color = (1,0,0))\n",
    "mlab.contour3d(F3, contours = [3],color = (0,0,1))\n",
    "mlab.show()"
   ]
  },
  {
   "cell_type": "code",
   "execution_count": 6,
   "metadata": {
    "collapsed": true
   },
   "outputs": [],
   "source": [
    "# step 2 in the Gauss algorithm\n",
    "\n",
    "import numpy as np\n",
    "from mayavi import mlab\n",
    "\n",
    "mlab.figure()\n",
    "\n",
    "x, y, z = np.ogrid[-10:10:100j, -10:10:100j, -10:10:100j]\n",
    "F1 = 1.5*x +4*y -2*z -1\n",
    "F2 = 0*x -22/3*y -11/6*z + 11/6\n",
    "F3 = 0*x + 0*y + 15/4*z - 11/4\n",
    "\n",
    "mlab.contour3d(F1, contours = [5], color = (1,1,1))\n",
    "mlab.contour3d(F2, contours = [0],color = (1,0,0))\n",
    "mlab.contour3d(F3, contours = [3],color = (0,0,1))\n",
    "mlab.show()"
   ]
  },
  {
   "cell_type": "code",
   "execution_count": 7,
   "metadata": {
    "collapsed": true
   },
   "outputs": [],
   "source": [
    "# step 3 in the Gauss algorithm\n",
    "\n",
    "import numpy as np\n",
    "from mayavi import mlab\n",
    "\n",
    "mlab.figure()\n",
    "\n",
    "x, y, z = np.ogrid[-10:10:100j, -10:10:100j, -10:10:100j]\n",
    "F1 = 1.5*x +4*y -2*z -1\n",
    "F2 = 0*x -22/3*y +0*z + 22/45\n",
    "F3 = 0*x + 0*y + 15/4*z - 11/4\n",
    "\n",
    "mlab.contour3d(F1, contours = [5], color = (1,1,1))\n",
    "mlab.contour3d(F2, contours = [0],color = (1,0,0))\n",
    "mlab.contour3d(F3, contours = [3],color = (0,0,1))\n",
    "mlab.show()"
   ]
  },
  {
   "cell_type": "code",
   "execution_count": 8,
   "metadata": {
    "collapsed": true
   },
   "outputs": [],
   "source": [
    "# step 4 in the Gauss algorithm\n",
    "\n",
    "import numpy as np\n",
    "from mayavi import mlab\n",
    "\n",
    "mlab.figure()\n",
    "\n",
    "x, y, z = np.ogrid[-10:10:100j, -10:10:100j, -10:10:100j]\n",
    "F1 = 1.5*x +0*y +0*z - 11/5\n",
    "F2 = 0*x -22/3*y +0*z + 22/45\n",
    "F3 = 0*x + 0*y + 15/4*z - 11/4\n",
    "\n",
    "mlab.contour3d(F1, contours = [5], color = (1,1,1))\n",
    "mlab.contour3d(F2, contours = [0],color = (1,0,0))\n",
    "mlab.contour3d(F3, contours = [3],color = (0,0,1))\n",
    "mlab.show()"
   ]
  },
  {
   "cell_type": "code",
   "execution_count": null,
   "metadata": {
    "collapsed": true
   },
   "outputs": [],
   "source": []
  }
 ],
 "metadata": {
  "kernelspec": {
   "display_name": "Python 3",
   "language": "python",
   "name": "python3"
  }
 },
 "nbformat": 4,
 "nbformat_minor": 2
}
