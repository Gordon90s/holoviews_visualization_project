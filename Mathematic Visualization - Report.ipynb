{
 "cells": [
  {
   "cell_type": "markdown",
   "metadata": {},
   "source": [
    "# Mathematic Visualization\n",
    "\n",
    "## Table of contents\n",
    "1. [The Role of Mathematical Visualization](#intro)\n",
    "2. [Python Visualization Landscape](#vizlandscape)\n",
    "3. [Algorithm Visualization](#algo_viz)\n",
    "4. [Matrix Visualization](#matrix_viz)\n",
    "5. [Styling Plots (Remove chapter?)](#styling_vix)\n",
    "6. [Bibliography](#bib)"
   ]
  },
  {
   "cell_type": "markdown",
   "metadata": {},
   "source": [
    "## 1. The Role of Mathematical Visualization <a name=\"intro\"></a>\n",
    "\n",
    "\n",
    "Mathematics is for many an abstract language. It is not uncommon to find textbooks that are solely comprised of text and dense formulas. Often forgotten is that the mathematical language can in most cases be translated into or supported by visualizations in a variety of intuitive ways with many benefits. Visualizations undoubtably make the reading experience more enjoyable and can significantly help and accelerate understanding, increase curiosity and spark creativity. Approaching a mathematical problem visually can also improve the research process by forcing a change of perspective. However, visualizations are difficult to erase from memory, so if poorely constructed, they can lead to confusion or if oversimplified, they can inhibit deeper understanding.\n",
    "\n",
    "Thus, a valuable visualization requires effort. Thanks to the ubiquity of computers and rich open-source libraries, it has never been easier to create beautiful looking and interactive visualizations. As a result, adoption in recent years has increased in popularity as can for example be attested by the success of the excellent Youtube channel [3Blue1Brown](https://www.youtube.com/channel/UCYO_jab_esuFRV4b17AJtAw). Its author, Grant Sanderson, is able to explain visually complex mathematical concepts in brief videos to a wide ranging audience. A further marvellous creation is the currently under completion online textbook [Machine Learning Refined](https://jermwatt.github.io/mlrefined/index.html) written by Jeremy Watt and Reza Borhani.\n",
    "\n",
    "This project seeks to inspire the reader to consider the usefulness of mathematical visualizations and explore their possible applications. For this, we make use of the programming language Python for which we present currently existing libraries [Section 2](#vizlandscape). In [Section 3](#algo_viz) we visualize concepts and algorithms from introductory numeric courses and in [Section 4] explore matrix visualization.\n",
    "\n",
    "We finish this section by showing our favorite visual proof of the Pythagoras Theorem. (Interactive image coming; need to remove as much Python code as possible; convert from Jupyter Notebook code.)\n",
    "\n",
    "\n",
    "<img src=\"images/screenshot_pythagoras_proof.png\" alt=\"Pythagoras\" width=\"800px\"/>\n",
    "\n",
    "\n",
    "\n",
    "\n",
    "Maybe also discuss the different kinds of visualizations?\n",
    "\n",
    "- Isomorphic visualization\n",
    "- Homeomorphic visualization\n",
    "- Analogical visualization\n",
    "- Diagramatic visualization\n",
    "\n",
    "c.f. [THE ROLE OF VISUALIZATION\n",
    "In the Teaching and Learning of Mathematical Analysis](http://users.math.uoc.gr/~ictm2/Proceedings/invGuz.pdf)\n",
    "\n",
    "\n"
   ]
  },
  {
   "cell_type": "markdown",
   "metadata": {
    "collapsed": true
   },
   "source": [
    "## 2. Python Visualization Landscape <a name=\"vizlandscape\"></a>\n",
    "\n",
    "In this section, we explore the visualization libraries available in Python. Here, one is easily overwelmed by the sea of possibilities as can be witnessed in the following map:"
   ]
  },
  {
   "cell_type": "markdown",
   "metadata": {},
   "source": [
    "<img src=\"images/python_visualization_landscape2.jpeg\" alt=\"Python Visualization Tool Landscape\" width=\"650px\"/>"
   ]
  },
  {
   "cell_type": "markdown",
   "metadata": {},
   "source": [
    "It was presented at the Python conference Pycon 2017 (with a recorded presentation available on [Youtube](https://www.youtube.com/watch?v=TPl9bMg8j8U)). As of today, there is sadly no tool that serves all visualization purposes. Each tool has its advantages and disadvantages and a compromise has to be made depending on ones visualization goal. We briefly discuss some of the available options.\n",
    "\n",
    "#### *Matplotlib*\n",
    "\n",
    "Matplotlib is one of the oldest visualization tools in Python and was inteded to ressemble and possibly substitute Matlab's visualization tool. Over the years, several options of tools have been built on top for specialized visualization application, for example __*Seaborn*__ for statistical visualizations and __*networkx*__ for network visualizations. While highly robust and versatile, Matplotlib is also quite verbose. Most of the tools that have spawned since are to alleviate some of its deficiencies.\n",
    "\n",
    "#### *JavaScript*\n",
    "\n",
    "Since widely used on the Internet, JavaScript is optimized for browser use and can be leveraged for rending graphics for online publication. This is particularly interesting for Jupyter Notebook applications. Noteworthy is in particular __*Bokeh__* as it offers interactive data visualization. **_Plotly_** is similar to Bokeh with good 3D plotting capabilities, but requires paid plans for some features.\n",
    "\n",
    "#### *Datashader* and *Vaex*\n",
    "\n",
    "These two tools enable efficient interactive visualization of large data sets.\n",
    "\n",
    "\n",
    "#### *Vega* and *Altair*\n",
    "\n",
    "Vega is a visualization grammar. Rather than forcing the user to specify *how* a visualization should be constructed, it lets the user focus on *what* should be done. Data and relationships are put in the foreground and leave out tinkering with incidental details. Altair is built on top of Vega and enables visualizations with minimal amount of code in an intuitive way. Additionally, instead of saving visualizations in the form of pixels, the data is kept in the background, thus also easily enabling interaction with the data and fascilitate formatting. \n",
    "\n",
    "#### *HoloViews*\n",
    "\n",
    "Similar to Altair, HoloViews enalables interaction with the data on a higher level. Once a type of plot is specified for a particular data set, HoloViews intelligently visualizes the data with no further user input required. Additionally, interactive visualizations are also easily made possible with just a few lines of code. HoloViews can use Bokeh, Plotly and Matplotlib as back-end. \n",
    "\n",
    "#### *ggpy*\n",
    "\n",
    "The tool ggpy seeks to also offer a higher lever of user interaction for statistical visualization.\n",
    "\n",
    "\n",
    "#### *OpenGL* and *Vispy*\n",
    "\n",
    "OpenGL is a cross-platform application programming interface (API) for rendering 2D and 3D vector graphics which Vispy takes advantage of. OpenGL is typically graphics processing unit (GPU) accelerated, enabeling to visualize graphic intensive applications. (It is for example often used for computer-aided design (CAD), virtual reality and video games.)\n",
    "\n",
    "#### Other Visualization tools\n",
    "\n",
    "The tools in the lower left part in the above map have not been further categorized. They represent to some extend competing libraries to those described above and often differ in their output in specific criteries like speed or cross-platform compatbility. __*Mayavi*__ is for example similar to Vispy. Some tools are being developed in collagoration with others like **_PyQtGraph_** and Vispy. \n",
    "\n",
    "As with all ecosystems, the visualization landscape evolves over time, some libraries will merge features and some will stop being developed. \n",
    "\n",
    "\n",
    "\n",
    " (see also the corresponding presentation  )\n",
    "\n",
    "- Brief discussion on about the others?\n",
    "- We will concentrate on HoloViews + Bokeh\n",
    "- see the examples on their respective websites:\n",
    "    - https://bokeh.pydata.org/en/latest/docs/gallery.html\n",
    "    - http://holoviews.org/gallery/index.html\n",
    "    - http://holoviews.org/reference/index.html\n"
   ]
  },
  {
   "cell_type": "markdown",
   "metadata": {},
   "source": [
    "### Introduction to HoloViews <a name=\"introduction_holo\"></a>\n",
    "\n",
    "\n",
    "We will purse the remainder of this project with the Python library HoloViews. It enables to create interactive visualization with few lines of code\n",
    "- make a mini version of the lecture version \"22_holoviews\"\n",
    "https://gitlab.gwdg.de/jschulz1/math_prog/blob/master/lecture/22_holoviews.ipynb\n"
   ]
  },
  {
   "cell_type": "markdown",
   "metadata": {},
   "source": [
    "# 3. Algorithm Visualization\n",
    "\n",
    "- Newton Algorithm\n",
    "    - slowly building up with derivatives shown before?\n",
    "- Least Square Method\n",
    "- Banach Fix point\n",
    "- differential equation\n",
    "- integral approximation\n"
   ]
  },
  {
   "cell_type": "markdown",
   "metadata": {},
   "source": [
    "# 4. Matrix Visualization\n",
    "\n",
    "- Basic Matrix visualization\n",
    "- Gauss Algo for solving linear equations on gauss simulated matrix\n",
    "- spicy matrices (with distance matrices?)"
   ]
  },
  {
   "cell_type": "markdown",
   "metadata": {},
   "source": [
    "# 5. Styling Plots\n",
    "\n",
    "- how to tweak the most important details of a figure? (Unfortunately something that takes far longer that creating the figure... I would find some examples very helpful, but that could make this introduction very long very fast?)\n",
    "- e.g. reshow the Pythagoras example with more details? Incrementally increase complexity"
   ]
  },
  {
   "cell_type": "code",
   "execution_count": null,
   "metadata": {},
   "outputs": [],
   "source": [
    "1+2"
   ]
  },
  {
   "cell_type": "code",
   "execution_count": null,
   "metadata": {},
   "outputs": [],
   "source": []
  }
 ],
 "metadata": {
  "kernelspec": {
   "display_name": "Python 3",
   "language": "python",
   "name": "python3"
  },
  "language_info": {
   "codemirror_mode": {
    "name": "ipython",
    "version": 3
   },
   "file_extension": ".py",
   "mimetype": "text/x-python",
   "name": "python",
   "nbconvert_exporter": "python",
   "pygments_lexer": "ipython3",
   "version": "3.6.5"
  }
 },
 "nbformat": 4,
 "nbformat_minor": 2
}
